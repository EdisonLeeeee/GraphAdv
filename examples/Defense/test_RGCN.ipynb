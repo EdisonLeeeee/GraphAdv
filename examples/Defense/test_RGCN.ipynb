{
 "cells": [
  {
   "cell_type": "code",
   "execution_count": 1,
   "metadata": {},
   "outputs": [],
   "source": [
    "import sys\n",
    "sys.path.append('../../../GraphGallery/')\n",
    "sys.path.append('../../../GraphAdv/')\n",
    "\n",
    "import numpy as np\n",
    "\n",
    "from graphgallery.nn.models import GCN, RobustGCN\n",
    "from graphadv.attack.untargeted import Metattack\n",
    "\n",
    "import matplotlib.pyplot as plt"
   ]
  },
  {
   "cell_type": "code",
   "execution_count": 2,
   "metadata": {},
   "outputs": [
    {
     "name": "stdout",
     "output_type": "stream",
     "text": [
      "Downloaded dataset files have existed.\n",
      "Processing...\n",
      "Processing completed.\n"
     ]
    }
   ],
   "source": [
    "from graphgallery.data import NPZDataset\n",
    "data = NPZDataset('citeseer', root=\"~/GraphData/datasets/\", verbose=False, standardize=True)\n",
    "adj, x, labels = data.graph.unpack()\n",
    "idx_train, idx_val, idx_test = data.split(random_state=15)\n"
   ]
  },
  {
   "cell_type": "code",
   "execution_count": 3,
   "metadata": {},
   "outputs": [],
   "source": [
    "idx_unlabeled = idx_test\n",
    "# idx_unlabeled = np.hstack([idx_val, idx_test])"
   ]
  },
  {
   "cell_type": "code",
   "execution_count": 4,
   "metadata": {},
   "outputs": [
    {
     "name": "stderr",
     "output_type": "stream",
     "text": [
      "Peturbing Graph: 100%|██████████| 183/183 [01:35<00:00,  1.90it/s]"
     ]
    },
    {
     "name": "stdout",
     "output_type": "stream",
     "text": [
      "Flip 183 edges, 183 added, 0 removed. Added edges with different classes: 98.36%, removed edges with the same classes: 0.00%\n"
     ]
    },
    {
     "name": "stderr",
     "output_type": "stream",
     "text": [
      "\n"
     ]
    }
   ],
   "source": [
    "attacker = Metattack(adj, x, labels, \n",
    "                     idx_train, idx_unlabeled=idx_unlabeled, \n",
    "                     lr=0.01, # cora and cora_ml lr=0.1 citeseer lr=0.01\n",
    "                     lambda_=1.0,\n",
    "                     device=\"GPU\", seed=None)\n",
    "attacker.reset()\n",
    "attacker.attack(0.05, structure_attack=True, feature_attack=False)\n",
    "# show logs\n",
    "attacker.show_edge_flips(detail=False)"
   ]
  },
  {
   "cell_type": "markdown",
   "metadata": {},
   "source": [
    "# Before Attack"
   ]
  },
  {
   "cell_type": "code",
   "execution_count": 5,
   "metadata": {},
   "outputs": [
    {
     "name": "stderr",
     "output_type": "stream",
     "text": [
      "<Loss = 0.1372 Acc = 0.9953 >: 100%|██████████| 100/100 [00:01<00:00, 96.82it/s]\n"
     ]
    },
    {
     "name": "stdout",
     "output_type": "stream",
     "text": [
      "Test loss 1.321, Test accuracy 71.09%\n"
     ]
    }
   ],
   "source": [
    "model_before = GCN(adj, x, labels, device='GPU', norm_x=None, seed=42)\n",
    "model_before.build()\n",
    "his_before = model_before.train(idx_train, verbose=1, epochs=100)\n",
    "loss, accuracy = model_before.test(idx_test)\n",
    "print(f'Test loss {loss:.5}, Test accuracy {accuracy:.2%}')"
   ]
  },
  {
   "cell_type": "markdown",
   "metadata": {},
   "source": [
    "# After Attack"
   ]
  },
  {
   "cell_type": "code",
   "execution_count": 20,
   "metadata": {},
   "outputs": [
    {
     "name": "stderr",
     "output_type": "stream",
     "text": [
      "<Loss = 0.1512 Acc = 0.9905 >: 100%|██████████| 100/100 [00:01<00:00, 84.90it/s]\n"
     ]
    },
    {
     "name": "stdout",
     "output_type": "stream",
     "text": [
      "Test loss 1.3982, Test accuracy 64.45%\n"
     ]
    }
   ],
   "source": [
    "model_after = GCN(attacker.A, x, labels, device='GPU', norm_x=None, seed=42)\n",
    "model_after.build()\n",
    "his_after = model_after.train(idx_train, verbose=1, epochs=100)\n",
    "loss, accuracy = model_after.test(idx_test)\n",
    "print(f'Test loss {loss:.5}, Test accuracy {accuracy:.2%}')"
   ]
  },
  {
   "cell_type": "markdown",
   "metadata": {},
   "source": [
    "# After Defense"
   ]
  },
  {
   "cell_type": "code",
   "execution_count": 29,
   "metadata": {},
   "outputs": [
    {
     "name": "stderr",
     "output_type": "stream",
     "text": [
      "<Loss = 0.0459 Acc = 1.0000 >: 100%|██████████| 200/200 [00:01<00:00, 120.28it/s]\n"
     ]
    },
    {
     "name": "stdout",
     "output_type": "stream",
     "text": [
      "Test loss 1.2993, Test accuracy 63.45%\n"
     ]
    }
   ],
   "source": [
    "model_defense = RobustGCN(attacker.A, x, labels, device='GPU', norm_x=None, seed=None)\n",
    "model_defense.build(kl=0)\n",
    "his_defense = model_defense.train(idx_train, verbose=1, epochs=200)\n",
    "loss, accuracy = model_defense.test(idx_test)\n",
    "print(f'Test loss {loss:.5}, Test accuracy {accuracy:.2%}')"
   ]
  },
  {
   "cell_type": "markdown",
   "metadata": {},
   "source": [
    "#  Visulation"
   ]
  },
  {
   "cell_type": "code",
   "execution_count": 21,
   "metadata": {},
   "outputs": [],
   "source": [
    "def plot(his_before, his_after, his_defense, metric=\"loss\"):\n",
    "    with plt.style.context(['science', 'no-latex']):\n",
    "        plt.plot(his_before.history[metric])\n",
    "        plt.plot(his_after.history[metric])\n",
    "        plt.plot(his_defense.history[metric])        \n",
    "        plt.legend([f'{metric.title()} Before Attack', f'{metric.title()} After Attack', f'{metric.title()} After defense'])\n",
    "        plt.ylabel(f'{metric.title()}')\n",
    "        plt.xlabel('Epochs')\n",
    "        plt.show()    "
   ]
  },
  {
   "cell_type": "code",
   "execution_count": 22,
   "metadata": {},
   "outputs": [
    {
     "name": "stderr",
     "output_type": "stream",
     "text": [
      "findfont: Font family ['serif'] not found. Falling back to DejaVu Sans.\n"
     ]
    },
    {
     "data": {
      "image/png": "[encoded data removed]",
      "text/plain": [
       "<Figure size 252x189 with 1 Axes>"
      ]
     },
     "metadata": {
      "needs_background": "light"
     },
     "output_type": "display_data"
    },
    {
     "data": {
      "image/png": "[encoded data removed]",
      "text/plain": [
       "<Figure size 252x189 with 1 Axes>"
      ]
     },
     "metadata": {
      "needs_background": "light"
     },
     "output_type": "display_data"
    }
   ],
   "source": [
    "plot(his_before, his_after, his_defense, metric=\"loss\")\n",
    "plot(his_before, his_after, his_defense, metric=\"acc\")"
   ]
  }
 ],
 "metadata": {
  "kernelspec": {
   "display_name": "Python 3",
   "language": "python",
   "name": "python3"
  },
  "language_info": {
   "codemirror_mode": {
    "name": "ipython",
    "version": 3
   },
   "file_extension": ".py",
   "mimetype": "text/x-python",
   "name": "python",
   "nbconvert_exporter": "python",
   "pygments_lexer": "ipython3",
   "version": "3.7.3"
  }
 },
 "nbformat": 4,
 "nbformat_minor": 4
}
