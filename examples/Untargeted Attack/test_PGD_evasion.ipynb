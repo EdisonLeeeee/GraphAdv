{
 "cells": [
  {
   "cell_type": "code",
   "execution_count": 1,
   "metadata": {},
   "outputs": [],
   "source": [
    "import sys\n",
    "sys.path.append('../../../GraphGallery/')\n",
    "sys.path.append('../../../GraphAdv/')\n",
    "\n",
    "import graphgallery\n",
    "from graphgallery.nn.models import DenseGCN\n",
    "from graphadv.attack.untargeted import PGD\n",
    "\n",
    "\n",
    "import matplotlib.pyplot as plt"
   ]
  },
  {
   "cell_type": "code",
   "execution_count": 2,
   "metadata": {},
   "outputs": [
    {
     "name": "stdout",
     "output_type": "stream",
     "text": [
      "Downloaded dataset files have existed.\n",
      "Processing...\n",
      "Processing completed.\n"
     ]
    }
   ],
   "source": [
    "from graphgallery.data import NPZDataset, Planetoid\n",
    "data = Planetoid('cora', root=\"~/GraphData/datasets/\", verbose=False)\n",
    "adj, x, labels = data.graph.unpack()\n",
    "idx_train, idx_val, idx_test = data.split()\n"
   ]
  },
  {
   "cell_type": "markdown",
   "metadata": {},
   "source": [
    "# Before Attack"
   ]
  },
  {
   "cell_type": "code",
   "execution_count": 3,
   "metadata": {},
   "outputs": [],
   "source": [
    "x_norm = graphgallery.normalize_x(x, norm='l1')"
   ]
  },
  {
   "cell_type": "code",
   "execution_count": 4,
   "metadata": {},
   "outputs": [
    {
     "name": "stderr",
     "output_type": "stream",
     "text": [
      "<Loss = 0.7786 Acc = 0.9714 Val_Loss = 1.2553 Val_Acc = 0.7900 >: 100%|██████████| 100/100 [00:01<00:00, 70.65it/s]\n"
     ]
    },
    {
     "name": "stdout",
     "output_type": "stream",
     "text": [
      "Test loss 1.5142, Test accuracy 82.40%\n"
     ]
    }
   ],
   "source": [
    "surrogate = DenseGCN(adj, x_norm, labels, device='GPU', norm_x=None, seed=123)\n",
    "surrogate.build(32)\n",
    "his_before = surrogate.train(idx_train, idx_val, verbose=1, epochs=100)\n",
    "loss, accuracy = surrogate.test(idx_test)\n",
    "print(f'Test loss {loss:.5}, Test accuracy {accuracy:.2%}')"
   ]
  },
  {
   "cell_type": "markdown",
   "metadata": {},
   "source": [
    "# White-box attack "
   ]
  },
  {
   "cell_type": "code",
   "execution_count": 5,
   "metadata": {},
   "outputs": [
    {
     "name": "stderr",
     "output_type": "stream",
     "text": [
      "Peturbation Training: 100%|██████████| 100/100 [00:05<00:00, 17.90it/s]\n",
      "Random Sampling: 100%|██████████| 20/20 [00:00<00:00, 153.99it/s]\n"
     ]
    },
    {
     "name": "stdout",
     "output_type": "stream",
     "text": [
      "Flip 261 edges, 261 added, 0 removed. Added edges with different classes: 98.08%, removed edges with the same classes: 0.00%\n"
     ]
    }
   ],
   "source": [
    "attacker = PGD(adj, x_norm, labels, idx_train, idx_unlabeled=idx_test, surrogate=surrogate, device=\"GPU\", seed=None)\n",
    "attacker.reset()\n",
    "attacker.attack(0.05, structure_attack=True, feature_attack=False)\n",
    "# show logs\n",
    "attacker.show_edge_flips(detail=False)"
   ]
  },
  {
   "cell_type": "markdown",
   "metadata": {},
   "source": [
    "# After Attack"
   ]
  },
  {
   "cell_type": "code",
   "execution_count": 6,
   "metadata": {},
   "outputs": [
    {
     "name": "stdout",
     "output_type": "stream",
     "text": [
      "Test loss 1.6143, Test accuracy 74.40%\n"
     ]
    }
   ],
   "source": [
    "# NOTE: after calling `preprocess`, the adjacency matrix and attribute matrix of surrogate model\n",
    "# are registered as the perturbed ones\n",
    "# DO NOT use this surrogate model again for surrogate attack\n",
    "# if you really do, please call `surrogate.preprocess(adj, x_norm)` first.\n",
    "surrogate.preprocess(attacker.A, x_norm)\n",
    "loss, accuracy = surrogate.test(idx_test)\n",
    "print(f'Test loss {loss:.5}, Test accuracy {accuracy:.2%}')"
   ]
  }
 ],
 "metadata": {
  "kernelspec": {
   "display_name": "Python 3",
   "language": "python",
   "name": "python3"
  },
  "language_info": {
   "codemirror_mode": {
    "name": "ipython",
    "version": 3
   },
   "file_extension": ".py",
   "mimetype": "text/x-python",
   "name": "python",
   "nbconvert_exporter": "python",
   "pygments_lexer": "ipython3",
   "version": "3.7.3"
  }
 },
 "nbformat": 4,
 "nbformat_minor": 4
}
