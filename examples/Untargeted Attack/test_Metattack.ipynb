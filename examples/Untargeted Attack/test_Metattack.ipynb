{
 "cells": [
  {
   "cell_type": "code",
   "execution_count": 1,
   "metadata": {},
   "outputs": [],
   "source": [
    "import sys\n",
    "sys.path.append('../../../GraphGallery/')\n",
    "sys.path.append('../../../GraphAdv/')\n",
    "\n",
    "import numpy as np\n",
    "\n",
    "from graphgallery.nn.models import GCN\n",
    "from graphadv.attack.untargeted import Metattack\n",
    "\n",
    "import matplotlib.pyplot as plt"
   ]
  },
  {
   "cell_type": "code",
   "execution_count": 2,
   "metadata": {},
   "outputs": [
    {
     "name": "stdout",
     "output_type": "stream",
     "text": [
      "Downloaded dataset files have existed.\n",
      "Processing...\n",
      "Processing completed.\n"
     ]
    }
   ],
   "source": [
    "from graphgallery.data import NPZDataset\n",
    "data = NPZDataset('citeseer', root=\"~/GraphData/datasets/\", verbose=False, standardize=True)\n",
    "adj, x, labels = data.graph.unpack()\n",
    "idx_train, idx_val, idx_test = data.split(random_state=15)\n"
   ]
  },
  {
   "cell_type": "code",
   "execution_count": 12,
   "metadata": {},
   "outputs": [],
   "source": [
    "idx_unlabeled = idx_test\n",
    "idx_unlabeled = np.hstack([idx_val, idx_test])"
   ]
  },
  {
   "cell_type": "code",
   "execution_count": null,
   "metadata": {},
   "outputs": [
    {
     "name": "stderr",
     "output_type": "stream",
     "text": [
      "Peturbing Graph:  82%|████████▏ | 755/917 [05:26<01:11,  2.27it/s]"
     ]
    }
   ],
   "source": [
    "attacker = Metattack(adj, x, labels, \n",
    "                     idx_train, idx_unlabeled=idx_unlabeled, \n",
    "                     lr=0.01, # cora and cora_ml lr=0.1 citeseer lr=0.01\n",
    "                     lambda_=1.0,\n",
    "                     device=\"GPU\", seed=None)\n",
    "attacker.reset()\n",
    "attacker.attack(0.25, structure_attack=True, feature_attack=False)\n",
    "# show logs\n",
    "attacker.show_edge_flips(detail=False)"
   ]
  },
  {
   "cell_type": "code",
   "execution_count": null,
   "metadata": {},
   "outputs": [],
   "source": [
    "np.save(attacker.edge_flips, \"/home/jtli/Files/WorkShop2021/adv_edges/citeseer/0.25.npy\")"
   ]
  },
  {
   "cell_type": "markdown",
   "metadata": {},
   "source": [
    "# Before Attack"
   ]
  },
  {
   "cell_type": "code",
   "execution_count": null,
   "metadata": {},
   "outputs": [],
   "source": [
    "model_before = GCN(adj, x, labels, device='GPU', norm_x=None, seed=42)\n",
    "model_before.build()\n",
    "his_before = model_before.train(idx_train, verbose=1, epochs=100)\n",
    "loss, accuracy = model_before.test(idx_test)\n",
    "print(f'Test loss {loss:.5}, Test accuracy {accuracy:.2%}')"
   ]
  },
  {
   "cell_type": "markdown",
   "metadata": {},
   "source": [
    "# After Attack"
   ]
  },
  {
   "cell_type": "code",
   "execution_count": 16,
   "metadata": {},
   "outputs": [
    {
     "name": "stderr",
     "output_type": "stream",
     "text": [
      "<Loss = 0.1912 Acc = 1.0000 >: 100%|██████████| 100/100 [00:00<00:00, 154.15it/s]\n"
     ]
    },
    {
     "name": "stdout",
     "output_type": "stream",
     "text": [
      "Test loss 1.6978, Test accuracy 47.16%\n"
     ]
    }
   ],
   "source": [
    "model_after = GCN(attacker.A, x, labels, device='GPU', norm_x=None, seed=42)\n",
    "model_after.build()\n",
    "his_after = model_after.train(idx_train, verbose=1, epochs=100)\n",
    "loss, accuracy = model_after.test(idx_test)\n",
    "print(f'Test loss {loss:.5}, Test accuracy {accuracy:.2%}')"
   ]
  },
  {
   "cell_type": "code",
   "execution_count": 7,
   "metadata": {},
   "outputs": [
    {
     "name": "stdout",
     "output_type": "stream",
     "text": [
      "WARNING:tensorflow:Large dropout rate: 0.6 (>0.5). In TensorFlow 2.x, dropout() uses dropout rate instead of keep_prob. Please ensure that this is intended.\n"
     ]
    },
    {
     "name": "stderr",
     "output_type": "stream",
     "text": [
      "  0%|          | 0/200 [00:00<?, ?it/s]"
     ]
    },
    {
     "name": "stdout",
     "output_type": "stream",
     "text": [
      "WARNING:tensorflow:Large dropout rate: 0.6 (>0.5). In TensorFlow 2.x, dropout() uses dropout rate instead of keep_prob. Please ensure that this is intended.\n",
      "WARNING:tensorflow:Large dropout rate: 0.6 (>0.5). In TensorFlow 2.x, dropout() uses dropout rate instead of keep_prob. Please ensure that this is intended.\n"
     ]
    },
    {
     "name": "stderr",
     "output_type": "stream",
     "text": [
      "<Loss = 0.8107 Acc = 0.8341 >: 100%|██████████| 200/200 [00:06<00:00, 51.67it/s]\n"
     ]
    },
    {
     "name": "stdout",
     "output_type": "stream",
     "text": [
      "Test loss 2.6319, Test accuracy 44.14%\n"
     ]
    }
   ],
   "source": [
    "from graphgallery.nn.models import GAT\n",
    "model_after = GAT(attacker.A, x, labels, device='GPU', norm_x=None, seed=42)\n",
    "model_after.build()\n",
    "his_after = model_after.train(idx_train, verbose=1, epochs=200)\n",
    "loss, accuracy = model_after.test(idx_test)\n",
    "print(f'Test loss {loss:.5}, Test accuracy {accuracy:.2%}')"
   ]
  },
  {
   "cell_type": "markdown",
   "metadata": {},
   "source": [
    "#  Visulation"
   ]
  },
  {
   "cell_type": "code",
   "execution_count": 8,
   "metadata": {},
   "outputs": [],
   "source": [
    "def plot(his_before, his_after, metric=\"loss\"):\n",
    "    with plt.style.context(['science', 'no-latex']):\n",
    "        plt.plot(his_before.history[metric])\n",
    "        plt.plot(his_after.history[metric])\n",
    "        plt.legend([f'{metric.title()} Before', f'{metric.title()} After'])\n",
    "        plt.ylabel(f'{metric.title()}')\n",
    "        plt.xlabel('Epochs')\n",
    "        plt.show()    "
   ]
  },
  {
   "cell_type": "code",
   "execution_count": 9,
   "metadata": {},
   "outputs": [
    {
     "data": {
      "image/png": "[encoded data removed]",
      "text/plain": [
       "<Figure size 252x189 with 1 Axes>"
      ]
     },
     "metadata": {
      "needs_background": "light"
     },
     "output_type": "display_data"
    },
    {
     "data": {
      "image/png": "[encoded data removed]",
      "text/plain": [
       "<Figure size 252x189 with 1 Axes>"
      ]
     },
     "metadata": {
      "needs_background": "light"
     },
     "output_type": "display_data"
    }
   ],
   "source": [
    "plot(his_before, his_after, metric=\"loss\")\n",
    "plot(his_before, his_after, metric=\"acc\")"
   ]
  }
 ],
 "metadata": {
  "kernelspec": {
   "display_name": "Python 3",
   "language": "python",
   "name": "python3"
  },
  "language_info": {
   "codemirror_mode": {
    "name": "ipython",
    "version": 3
   },
   "file_extension": ".py",
   "mimetype": "text/x-python",
   "name": "python",
   "nbconvert_exporter": "python",
   "pygments_lexer": "ipython3",
   "version": "3.7.3"
  }
 },
 "nbformat": 4,
 "nbformat_minor": 4
}
