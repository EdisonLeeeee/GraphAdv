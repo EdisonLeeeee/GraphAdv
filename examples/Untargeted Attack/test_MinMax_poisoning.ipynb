{
 "cells": [
  {
   "cell_type": "code",
   "execution_count": 1,
   "metadata": {},
   "outputs": [],
   "source": [
    "import sys\n",
    "sys.path.append('../../../GraphGallery/')\n",
    "sys.path.append('../../../GraphAdv/')\n",
    "\n",
    "from graphgallery.nn.models import GCN\n",
    "from graphadv.attack.untargeted import MinMax\n",
    "\n",
    "\n",
    "import matplotlib.pyplot as plt"
   ]
  },
  {
   "cell_type": "code",
   "execution_count": 2,
   "metadata": {},
   "outputs": [
    {
     "name": "stdout",
     "output_type": "stream",
     "text": [
      "Downloaded dataset files have existed.\n",
      "Processing...\n",
      "Processing completed.\n"
     ]
    }
   ],
   "source": [
    "from graphgallery.data import NPZDataset\n",
    "data = NPZDataset('citeseer', root=\"~/GraphData/datasets/\", verbose=False, standardize=True)\n",
    "adj, x, labels = data.graph.unpack()\n",
    "idx_train, idx_val, idx_test = data.split(random_state=15)\n"
   ]
  },
  {
   "cell_type": "code",
   "execution_count": 3,
   "metadata": {},
   "outputs": [
    {
     "name": "stdout",
     "output_type": "stream",
     "text": [
      "=== MinMax: Train a surrogate model `DenseGCN` from scratch ===\n"
     ]
    },
    {
     "name": "stderr",
     "output_type": "stream",
     "text": [
      "MinMax Training: 100%|██████████| 100/100 [00:06<00:00, 14.97it/s]\n",
      "Random Sampling: 100%|██████████| 20/20 [00:00<00:00, 210.45it/s]"
     ]
    },
    {
     "name": "stdout",
     "output_type": "stream",
     "text": [
      "Flip 180 edges, 180 added, 0 removed. Added edges with different classes: 94.44%, removed edges with the same classes: 0.00%\n"
     ]
    },
    {
     "name": "stderr",
     "output_type": "stream",
     "text": [
      "\n"
     ]
    }
   ],
   "source": [
    "attacker = MinMax(adj, x, labels, idx_train, device=\"GPU\", seed=None, surrogate_args={'idx_val':idx_val})\n",
    "attacker.reset()\n",
    "attacker.attack(0.05, structure_attack=True, feature_attack=False)\n",
    "# show logs\n",
    "attacker.show_edge_flips(detail=False)"
   ]
  },
  {
   "cell_type": "markdown",
   "metadata": {},
   "source": [
    "# Before Attack"
   ]
  },
  {
   "cell_type": "code",
   "execution_count": 4,
   "metadata": {},
   "outputs": [
    {
     "name": "stderr",
     "output_type": "stream",
     "text": [
      "<Loss = 0.1372 Acc = 0.9953 >: 100%|██████████| 100/100 [00:00<00:00, 151.08it/s]\n"
     ]
    },
    {
     "name": "stdout",
     "output_type": "stream",
     "text": [
      "Test loss 1.321, Test accuracy 71.09%\n"
     ]
    }
   ],
   "source": [
    "model_before = GCN(adj, x, labels, device='GPU', norm_x=None, seed=42)\n",
    "model_before.build()\n",
    "his_before = model_before.train(idx_train, verbose=1, epochs=100)\n",
    "loss, accuracy = model_before.test(idx_test)\n",
    "print(f'Test loss {loss:.5}, Test accuracy {accuracy:.2%}')"
   ]
  },
  {
   "cell_type": "markdown",
   "metadata": {},
   "source": [
    "# After Attack"
   ]
  },
  {
   "cell_type": "code",
   "execution_count": 5,
   "metadata": {},
   "outputs": [
    {
     "name": "stderr",
     "output_type": "stream",
     "text": [
      "<Loss = 0.1995 Acc = 0.9905 >: 100%|██████████| 100/100 [00:01<00:00, 93.40it/s]\n"
     ]
    },
    {
     "name": "stdout",
     "output_type": "stream",
     "text": [
      "Test loss 1.3365, Test accuracy 68.66%\n"
     ]
    }
   ],
   "source": [
    "model_after = GCN(attacker.A, x, labels, device='GPU', norm_x=None, seed=42)\n",
    "model_after.build()\n",
    "his_after = model_after.train(idx_train, verbose=1, epochs=100)\n",
    "loss, accuracy = model_after.test(idx_test)\n",
    "print(f'Test loss {loss:.5}, Test accuracy {accuracy:.2%}')"
   ]
  },
  {
   "cell_type": "markdown",
   "metadata": {},
   "source": [
    "#  Visulation"
   ]
  },
  {
   "cell_type": "code",
   "execution_count": 6,
   "metadata": {},
   "outputs": [],
   "source": [
    "def plot(his_before, his_after, metric=\"loss\"):\n",
    "    with plt.style.context(['science', 'no-latex']):\n",
    "        plt.plot(his_before.history[metric])\n",
    "        plt.plot(his_after.history[metric])\n",
    "        plt.legend([f'{metric.title()} Before', f'{metric.title()} After'])\n",
    "        plt.ylabel(f'{metric.title()}')\n",
    "        plt.xlabel('Epochs')\n",
    "        plt.show()    "
   ]
  },
  {
   "cell_type": "code",
   "execution_count": 7,
   "metadata": {},
   "outputs": [
    {
     "name": "stderr",
     "output_type": "stream",
     "text": [
      "findfont: Font family ['serif'] not found. Falling back to DejaVu Sans.\n"
     ]
    },
    {
     "data": {
      "image/png": "[encoded data removed]",
      "text/plain": [
       "<Figure size 252x189 with 1 Axes>"
      ]
     },
     "metadata": {
      "needs_background": "light"
     },
     "output_type": "display_data"
    },
    {
     "data": {
      "image/png": "[encoded data removed]",
      "text/plain": [
       "<Figure size 252x189 with 1 Axes>"
      ]
     },
     "metadata": {
      "needs_background": "light"
     },
     "output_type": "display_data"
    }
   ],
   "source": [
    "plot(his_before, his_after, metric=\"loss\")\n",
    "plot(his_before, his_after, metric=\"acc\")"
   ]
  }
 ],
 "metadata": {
  "kernelspec": {
   "display_name": "Python 3",
   "language": "python",
   "name": "python3"
  },
  "language_info": {
   "codemirror_mode": {
    "name": "ipython",
    "version": 3
   },
   "file_extension": ".py",
   "mimetype": "text/x-python",
   "name": "python",
   "nbconvert_exporter": "python",
   "pygments_lexer": "ipython3",
   "version": "3.7.3"
  }
 },
 "nbformat": 4,
 "nbformat_minor": 4
}
