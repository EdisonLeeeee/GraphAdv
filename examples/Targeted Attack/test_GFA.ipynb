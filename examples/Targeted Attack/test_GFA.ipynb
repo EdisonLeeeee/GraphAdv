{
 "cells": [
  {
   "cell_type": "code",
   "execution_count": 1,
   "metadata": {},
   "outputs": [],
   "source": [
    "import sys\n",
    "sys.path.append('../../../GraphGallery/')\n",
    "sys.path.append('../../../GraphAdv/')\n",
    "\n",
    "import tensorflow as tf\n",
    "import numpy as np\n",
    "import networkx as nx\n",
    "import scipy.sparse as sp\n",
    "\n",
    "from graphgallery.nn.models import GCN\n",
    "from graphgallery.nn.functions import softmax\n",
    "from graphadv.attack.targeted import GFA\n",
    "\n",
    "\n",
    "import matplotlib.pyplot as plt\n",
    "plt.style.use(['no-latex', 'ieee'])"
   ]
  },
  {
   "cell_type": "code",
   "execution_count": 2,
   "metadata": {},
   "outputs": [
    {
     "name": "stdout",
     "output_type": "stream",
     "text": [
      "Downloaded dataset files have existed.\n",
      "Processing...\n",
      "Processing completed.\n"
     ]
    }
   ],
   "source": [
    "from graphgallery.data import NPZDataset\n",
    "data = NPZDataset('citeseer', root=\"~/GraphData/datasets/\", verbose=False, standardize=True)\n",
    "adj, x, labels = data.graph.unpack()\n",
    "idx_train, idx_val, idx_test = data.split(random_state=15)\n",
    "\n",
    "n_classes = labels.max() + 1"
   ]
  },
  {
   "cell_type": "code",
   "execution_count": 3,
   "metadata": {},
   "outputs": [
    {
     "name": "stdout",
     "output_type": "stream",
     "text": [
      "Attack target 0 with class label 1\n"
     ]
    }
   ],
   "source": [
    "target = 0\n",
    "assert target in idx_test\n",
    "print(f\"Attack target {target} with class label {labels[target]}\")"
   ]
  },
  {
   "cell_type": "code",
   "execution_count": 4,
   "metadata": {},
   "outputs": [
    {
     "name": "stderr",
     "output_type": "stream",
     "text": [
      "Peturbing Graph: 100%|██████████| 11/11 [00:21<00:00,  1.88s/it]"
     ]
    },
    {
     "name": "stdout",
     "output_type": "stream",
     "text": [
      "Add an edge (0   <-> 1880), class 0  = 1, class 1880= 2.\n",
      "Add an edge (0   <-> 511), class 0  = 1, class 511= 2.\n",
      "Add an edge (0   <-> 127), class 0  = 1, class 127= 1.\n",
      "Add an edge (0   <-> 1525), class 0  = 1, class 1525= 1.\n",
      "Add an edge (0   <-> 1881), class 0  = 1, class 1881= 2.\n",
      "Add an edge (0   <-> 1283), class 0  = 1, class 1283= 1.\n",
      "Add an edge (0   <-> 1592), class 0  = 1, class 1592= 1.\n",
      "Add an edge (0   <-> 1392), class 0  = 1, class 1392= 1.\n",
      "Add an edge (0   <-> 2036), class 0  = 1, class 2036= 5.\n",
      "Add an edge (0   <-> 825), class 0  = 1, class 825= 1.\n",
      "Add an edge (0   <-> 1791), class 0  = 1, class 1791= 1.\n",
      "Flip 11 edges, 11 added, 0 removed. Added edges with different classes: 36.36%, removed edges with the same classes: 0.00%\n"
     ]
    },
    {
     "name": "stderr",
     "output_type": "stream",
     "text": [
      "\n"
     ]
    }
   ],
   "source": [
    "# labels could be not specified, it is used for the method `show_edge_flips`\n",
    "attacker = GFA(adj, x, labels=labels, seed=None)\n",
    "attacker.reset()\n",
    "attacker.attack(target, direct_attack=True, structure_attack=True, feature_attack=False)\n",
    "# show logs\n",
    "attacker.show_edge_flips(detail=True)"
   ]
  },
  {
   "cell_type": "markdown",
   "metadata": {},
   "source": [
    "# Before Attack"
   ]
  },
  {
   "cell_type": "code",
   "execution_count": 5,
   "metadata": {},
   "outputs": [
    {
     "name": "stderr",
     "output_type": "stream",
     "text": [
      "<Loss = 0.1372 Acc = 0.9953 Val_Loss = 1.1586 Val_Acc = 0.7393 >: 100%|██████████| 100/100 [00:02<00:00, 41.93it/s]\n"
     ]
    },
    {
     "data": {
      "text/plain": [
       "array([0.00338119, 0.9180412 , 0.0270315 , 0.00751557, 0.0203683 ,\n",
       "       0.02366218], dtype=float32)"
      ]
     },
     "execution_count": 5,
     "metadata": {},
     "output_type": "execute_result"
    }
   ],
   "source": [
    "model = GCN(adj, x, labels, device='GPU', norm_x=None, seed=42)\n",
    "model.build()\n",
    "his = model.train(idx_train, idx_val, verbose=1, epochs=100)\n",
    "softmax(model.predict(target).ravel())"
   ]
  },
  {
   "cell_type": "markdown",
   "metadata": {},
   "source": [
    "# After Attack"
   ]
  },
  {
   "cell_type": "code",
   "execution_count": 6,
   "metadata": {},
   "outputs": [
    {
     "name": "stderr",
     "output_type": "stream",
     "text": [
      "<Loss = 0.1372 Acc = 0.9953 Val_Loss = 1.1594 Val_Acc = 0.7393 >: 100%|██████████| 100/100 [00:01<00:00, 61.15it/s]\n"
     ]
    },
    {
     "data": {
      "text/plain": [
       "array([1.2654801e-05, 9.9801791e-01, 1.7635039e-03, 2.5162769e-06,\n",
       "       3.7025977e-06, 1.9971066e-04], dtype=float32)"
      ]
     },
     "execution_count": 6,
     "metadata": {},
     "output_type": "execute_result"
    }
   ],
   "source": [
    "model = GCN(attacker.A, x, labels, device='GPU', norm_x=None, seed=42)\n",
    "model.build()\n",
    "his = model.train(idx_train, idx_val, verbose=1, epochs=100)\n",
    "softmax(model.predict(target).ravel())"
   ]
  },
  {
   "cell_type": "markdown",
   "metadata": {},
   "source": [
    "#  Visulation"
   ]
  },
  {
   "cell_type": "code",
   "execution_count": 7,
   "metadata": {},
   "outputs": [],
   "source": [
    "def evaluate(adj, x, retrain_iters=5):\n",
    "    \n",
    "    classification_margins = []\n",
    "    class_distrs = []\n",
    "    for _ in range(retrain_iters):\n",
    "        print(f\"... {_+1}/{retrain_iters} \")\n",
    "        model = GCN(adj, x, labels, device='GPU', norm_x=None, seed=None)\n",
    "        model.build()\n",
    "        his = model.train(idx_train, idx_val, verbose=0, epochs=100)\n",
    "        logit = softmax(model.predict(target).ravel())\n",
    "            \n",
    "        class_distrs.append(logit)\n",
    "        best_second_class_before = (logit - labels[target]).argmax()\n",
    "        margin = logit[labels[target]] - logit[best_second_class_before]\n",
    "        classification_margins.append(margin)\n",
    "        model.close\n",
    "        del model\n",
    "        \n",
    "    class_distrs = np.array(class_distrs)\n",
    "    return class_distrs"
   ]
  },
  {
   "cell_type": "code",
   "execution_count": 8,
   "metadata": {},
   "outputs": [
    {
     "name": "stdout",
     "output_type": "stream",
     "text": [
      "Before Attack\n",
      "... 1/5 \n",
      "... 2/5 \n",
      "... 3/5 \n",
      "... 4/5 \n",
      "... 5/5 \n",
      "After GFA Attack\n",
      "... 1/5 \n",
      "... 2/5 \n",
      "... 3/5 \n",
      "... 4/5 \n",
      "... 5/5 \n"
     ]
    }
   ],
   "source": [
    "retrain_iters = 5\n",
    "print(\"Before Attack\")\n",
    "class_distrs_clean = evaluate(adj, x, retrain_iters=retrain_iters)\n",
    "print(f\"After {attacker.name} Attack\")\n",
    "class_distrs_retrain = evaluate(attacker.A, x, retrain_iters=retrain_iters)"
   ]
  },
  {
   "cell_type": "code",
   "execution_count": 9,
   "metadata": {},
   "outputs": [
    {
     "data": {
      "image/png": "[encoded data removed]",
      "text/plain": [
       "<Figure size 864x288 with 2 Axes>"
      ]
     },
     "metadata": {
      "needs_background": "light"
     },
     "output_type": "display_data"
    }
   ],
   "source": [
    "def make_xlabel(ix, correct):\n",
    "    if ix == correct:\n",
    "        return \"Class {}\\n(correct)\".format(ix)\n",
    "    return \"Class {}\".format(ix)\n",
    "\n",
    "\n",
    "figure = plt.figure(figsize=(12, 4))\n",
    "plt.subplot(1, 2, 1)\n",
    "center_ixs_clean = []\n",
    "for ix, block in enumerate(class_distrs_clean.T):\n",
    "    x_ixs = np.arange(len(block)) + ix*(len(block)+2)\n",
    "    center_ixs_clean.append(np.mean(x_ixs))\n",
    "    color = '#555555'\n",
    "    if ix == labels[target]:\n",
    "        color = 'darkgreen'\n",
    "    plt.bar(x_ixs, block, color=color)\n",
    "\n",
    "ax = plt.gca()\n",
    "plt.ylim((-.05, 1.05))\n",
    "plt.ylabel(\"Predicted probability\")\n",
    "ax.set_xticks(center_ixs_clean)\n",
    "ax.set_xticklabels([make_xlabel(k, labels[target]) for k in range(n_classes)])\n",
    "ax.set_title(f\"Predicted class probabilities for node {target} on clean data\\n({retrain_iters} re-trainings)\")\n",
    "\n",
    "fig = plt.subplot(1, 2, 2)\n",
    "center_ixs_retrain = []\n",
    "for ix, block in enumerate(class_distrs_retrain.T):\n",
    "    x_ixs = np.arange(len(block)) + ix*(len(block)+2)\n",
    "    center_ixs_retrain.append(np.mean(x_ixs))\n",
    "    color = '#555555'\n",
    "    if ix == labels[target]:\n",
    "        color = 'darkgreen'\n",
    "    plt.bar(x_ixs, block, color=color)\n",
    "\n",
    "\n",
    "ax = plt.gca()\n",
    "plt.ylim((-.05, 1.05))\n",
    "ax.set_xticks(center_ixs_retrain)\n",
    "ax.set_xticklabels([make_xlabel(k, labels[target]) for k in range(n_classes)])\n",
    "ax.set_title(f\"Predicted class probabilities for node {target} after {attacker.n_perturbations} perturbations\\n({retrain_iters} re-trainings)\")\n",
    "plt.tight_layout()\n",
    "plt.show()"
   ]
  }
 ],
 "metadata": {
  "kernelspec": {
   "display_name": "Python 3",
   "language": "python",
   "name": "python3"
  },
  "language_info": {
   "codemirror_mode": {
    "name": "ipython",
    "version": 3
   },
   "file_extension": ".py",
   "mimetype": "text/x-python",
   "name": "python",
   "nbconvert_exporter": "python",
   "pygments_lexer": "ipython3",
   "version": "3.7.3"
  }
 },
 "nbformat": 4,
 "nbformat_minor": 4
}
